{
  "nbformat": 4,
  "nbformat_minor": 0,
  "metadata": {
    "colab": {
      "provenance": [],
      "authorship_tag": "ABX9TyOQGSq63SfuLyRkQD2UIBDv",
      "include_colab_link": true
    },
    "kernelspec": {
      "name": "python3",
      "display_name": "Python 3"
    },
    "language_info": {
      "name": "python"
    }
  },
  "cells": [
    {
      "cell_type": "markdown",
      "metadata": {
        "id": "view-in-github",
        "colab_type": "text"
      },
      "source": [
        "<a href=\"https://colab.research.google.com/github/Charlee0616/Data-Mining/blob/main/K_means.ipynb\" target=\"_parent\"><img src=\"https://colab.research.google.com/assets/colab-badge.svg\" alt=\"Open In Colab\"/></a>"
      ]
    },
    {
      "cell_type": "code",
      "execution_count": 2,
      "metadata": {
        "id": "mU6AXmfwqSHq"
      },
      "outputs": [],
      "source": [
        "from sklearn.datasets import load_iris\n",
        "import pandas as pd\n",
        "import seaborn as sns\n",
        "import numpy as np\n",
        "import matplotlib.pyplot as plt"
      ]
    },
    {
      "cell_type": "code",
      "source": [
        "iris = load_iris()"
      ],
      "metadata": {
        "id": "KcM7WtG1rjDz"
      },
      "execution_count": 3,
      "outputs": []
    },
    {
      "cell_type": "code",
      "source": [
        "df = pd.DataFrame( iris.data, columns = iris.feature_names)"
      ],
      "metadata": {
        "id": "QaS9J6G9rjyE"
      },
      "execution_count": 4,
      "outputs": []
    },
    {
      "cell_type": "code",
      "source": [
        "def euclidean(x1, x2): # finding the euclidean distance between data points\n",
        "    return np.sqrt(np.sum((x1 - x2)**2))"
      ],
      "metadata": {
        "id": "JOZ-SwF9rmpP"
      },
      "execution_count": 5,
      "outputs": []
    },
    {
      "cell_type": "code",
      "source": [
        "def centroids(dataset, selection_method, k):\n",
        "  if selection_method == 'random':\n",
        "    return dataset.sample(k)\n",
        "  if selection_method == 'specified':\n",
        "    centroids = df.groupby(\"species_name\")[[\"petal length (cm)\", \"petal width (cm)\"]].mean()\n",
        "    return centroids"
      ],
      "metadata": {
        "id": "d1iEnUgvust2"
      },
      "execution_count": 6,
      "outputs": []
    },
    {
      "cell_type": "code",
      "source": [
        "def update_clusters(X, clusters):\n",
        "    for i in range(k):\n",
        "        points = np.array(clusters[i]['points'])\n",
        "        if points.shape[0] > 0:\n",
        "            new_center = points.mean(axis =0)\n",
        "            clusters[i]['center'] = new_center\n",
        "            clusters[i]['points'] = []\n",
        "    return clusters"
      ],
      "metadata": {
        "id": "Ekrlu46to7r0"
      },
      "execution_count": 9,
      "outputs": []
    },
    {
      "cell_type": "code",
      "source": [
        "def K_means_clusters(X, clusters):\n",
        "  pred = []\n",
        "  for i in range(X.shape[0]):\n",
        "      dist = []\n",
        "      for j in range(k):\n",
        "          dist.append(euclidean(X[i],clusters[j]['center']))\n",
        "      pred.append(np.argmin(dist))\n",
        "  return pred\n",
        "  clusters = assign_clusters(X,clusters)\n",
        "  clusters = update_clusters(X,clusters)\n",
        "  pred = pred_cluster(X,clusters)\n",
        "  plt.scatter(X[:,0],X[:,1],c = pred)\n",
        "  for i in clusters:\n",
        "      center = clusters[i]['center']\n",
        "      plt.scatter(center[0],center[1],marker = '^',c = 'red')\n",
        "  plt.show()"
      ],
      "metadata": {
        "id": "_N3giFxuwrUH"
      },
      "execution_count": 1,
      "outputs": []
    },
    {
      "cell_type": "code",
      "source": [],
      "metadata": {
        "id": "sAWy5CzPqXKK"
      },
      "execution_count": null,
      "outputs": []
    }
  ]
}