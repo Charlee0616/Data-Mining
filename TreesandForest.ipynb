{
  "nbformat": 4,
  "nbformat_minor": 0,
  "metadata": {
    "colab": {
      "provenance": [],
      "authorship_tag": "ABX9TyPDtKRHrvNRKZA8Ys/Y+5Hi",
      "include_colab_link": true
    },
    "kernelspec": {
      "name": "python3",
      "display_name": "Python 3"
    },
    "language_info": {
      "name": "python"
    }
  },
  "cells": [
    {
      "cell_type": "markdown",
      "metadata": {
        "id": "view-in-github",
        "colab_type": "text"
      },
      "source": [
        "<a href=\"https://colab.research.google.com/github/Charlee0616/Data-Mining/blob/main/TreesandForest.ipynb\" target=\"_parent\"><img src=\"https://colab.research.google.com/assets/colab-badge.svg\" alt=\"Open In Colab\"/></a>"
      ]
    },
    {
      "cell_type": "code",
      "execution_count": 2,
      "metadata": {
        "id": "xuNhwq6nbg6H"
      },
      "outputs": [],
      "source": [
        "import pandas as pd"
      ]
    },
    {
      "cell_type": "code",
      "source": [
        "df = pd.read_csv(\"https://github.com/Charlee0616/Data-Mining/raw/main/StudentPerformanceFactors.csv\")"
      ],
      "metadata": {
        "id": "uAfsstWlcoIP"
      },
      "execution_count": 3,
      "outputs": []
    },
    {
      "cell_type": "code",
      "source": [
        "aq = pd.read_csv(\"C:\\Users\\batty\\Downloads\\air_quality.csv\")"
      ],
      "metadata": {
        "id": "82TfF6xfsfFa"
      },
      "execution_count": null,
      "outputs": []
    },
    {
      "cell_type": "markdown",
      "source": [
        "# **Decision Tree Regressor**"
      ],
      "metadata": {
        "id": "DmoVmklTci_8"
      }
    },
    {
      "cell_type": "code",
      "source": [
        "from sklearn.tree import DecisionTreeRegressor\n",
        "\n",
        "df.random.seed(42)\n",
        "X_quad = df.random.rand(200, 1) - 0.5  # a single random input feature\n",
        "y_quad = X_quad ** 2 + 0.025 * df.random.randn(200, 1)\n",
        "\n",
        "tree_reg = DecisionTreeRegressor(max_depth=2, random_state=42)\n",
        "tree_reg.fit(X_quad, y_quad)"
      ],
      "metadata": {
        "id": "Lg7EyMaCb86Z"
      },
      "execution_count": null,
      "outputs": []
    },
    {
      "cell_type": "markdown",
      "source": [
        "# **GridSearchCV**"
      ],
      "metadata": {
        "id": "SDmANrbsiJ8G"
      }
    },
    {
      "cell_type": "code",
      "source": [],
      "metadata": {
        "id": "28TbIUgoiQXi"
      },
      "execution_count": null,
      "outputs": []
    },
    {
      "cell_type": "code",
      "source": [],
      "metadata": {
        "id": "lUhR0kJ7if_J"
      },
      "execution_count": null,
      "outputs": []
    },
    {
      "cell_type": "markdown",
      "source": [
        "# **Random Forest Classifier**"
      ],
      "metadata": {
        "id": "9V2fnlGCigsY"
      }
    },
    {
      "cell_type": "code",
      "source": [
        "from sklearn.model_selection import train_test_split\n",
        "from sklearn.preprocessing import OneHotEncoder, StandardScaler\n",
        "from sklearn.compose import ColumnTransformer\n",
        "train_set, test_set = train_test_split(df, test_size=0.2)"
      ],
      "metadata": {
        "id": "S7lGCJNm_9ch"
      },
      "execution_count": 13,
      "outputs": []
    },
    {
      "cell_type": "code",
      "source": [
        "train_set=train_set[[\"Hours_Studied\", \"Attendance\", \"Parental_Involvement\", \"Access_to_Resources\", \"Motivation_Level\", \"Internet_Access\", \"Family_Income\", \"Teacher_Quality\", \"Learning_Disabilities\",\"Parental_Education_Level\", \"School_Type\"]]\n",
        "test_set=test_set[[\"Hours_Studied\", \"Attendance\", \"Parental_Involvement\", \"Access_to_Resources\", \"Motivation_Level\", \"Internet_Access\", \"Family_Income\", \"Teacher_Quality\", \"Learning_Disabilities\",\"Parental_Education_Level\", \"School_Type\"]]\n",
        ""
      ],
      "metadata": {
        "id": "vUblYT03AFez"
      },
      "execution_count": 14,
      "outputs": []
    },
    {
      "cell_type": "code",
      "source": [
        "X_train = train_set[[\"Hours_Studied\", \"Attendance\", \"Parental_Involvement\", \"Access_to_Resources\", \"Motivation_Level\", \"Internet_Access\", \"Family_Income\", \"Teacher_Quality\", \"Learning_Disabilities\",\"Parental_Education_Level\"]]\n",
        "y_train = train_set[\"School_Type\"]"
      ],
      "metadata": {
        "id": "u5xrB6rXzLE2"
      },
      "execution_count": 15,
      "outputs": []
    },
    {
      "cell_type": "code",
      "source": [
        "X_test = test_set[[\"Hours_Studied\", \"Attendance\", \"Parental_Involvement\", \"Access_to_Resources\", \"Motivation_Level\", \"Internet_Access\", \"Family_Income\", \"Teacher_Quality\", \"Learning_Disabilities\",\"Parental_Education_Level\", \"School_Type\"]]\n",
        "y_test = test_set[\"School_Type\"]"
      ],
      "metadata": {
        "id": "VDsx9ZNZAa4l"
      },
      "execution_count": 16,
      "outputs": []
    },
    {
      "cell_type": "code",
      "source": [
        "num_attributes = X_train.select_dtypes( include = ['int64','float64']).columns\n",
        "cat_attributes = X_train.select_dtypes( include = ['object']).columns"
      ],
      "metadata": {
        "id": "_BGjoZ-HDyP_"
      },
      "execution_count": 17,
      "outputs": []
    },
    {
      "cell_type": "code",
      "source": [
        "trf = [ ('num', StandardScaler(), num_attributes),\n",
        "       ('cat', OneHotEncoder( handle_unknown='ignore'), cat_attributes) ]\n",
        "col_transform = ColumnTransformer( transformers = trf )"
      ],
      "metadata": {
        "id": "xKufJBjKD2cA"
      },
      "execution_count": 18,
      "outputs": []
    },
    {
      "cell_type": "code",
      "source": [
        "from sklearn.ensemble import RandomForestClassifier\n",
        "\n",
        "rnd_clf = RandomForestClassifier(n_estimators=500, max_leaf_nodes=16,\n",
        "                                 n_jobs=-1, random_state=42)\n",
        "#rnd_clf.fit(X_train, y_train)\n",
        "#y_pred_rf = rnd_clf.predict(X_test)"
      ],
      "metadata": {
        "id": "qPZqIwVeinIH"
      },
      "execution_count": 20,
      "outputs": []
    }
  ]
}