{
  "nbformat": 4,
  "nbformat_minor": 0,
  "metadata": {
    "colab": {
      "provenance": [],
      "authorship_tag": "ABX9TyMVvpWUXVv1cwofqPga0yfA",
      "include_colab_link": true
    },
    "kernelspec": {
      "name": "python3",
      "display_name": "Python 3"
    },
    "language_info": {
      "name": "python"
    }
  },
  "cells": [
    {
      "cell_type": "markdown",
      "metadata": {
        "id": "view-in-github",
        "colab_type": "text"
      },
      "source": [
        "<a href=\"https://colab.research.google.com/github/Charlee0616/Data-Mining/blob/main/NaiveBayesClassifier.ipynb\" target=\"_parent\"><img src=\"https://colab.research.google.com/assets/colab-badge.svg\" alt=\"Open In Colab\"/></a>"
      ]
    },
    {
      "cell_type": "code",
      "execution_count": null,
      "metadata": {
        "id": "2rf2c1MGawlH"
      },
      "outputs": [],
      "source": [
        "import pandas as pd"
      ]
    },
    {
      "cell_type": "code",
      "source": [
        "penguins = pd.read_csv(\"https://github.com/mbrudd/csci290/raw/refs/heads/main/data/penguins.csv\")"
      ],
      "metadata": {
        "id": "X32MqH8RcB5V"
      },
      "execution_count": null,
      "outputs": []
    },
    {
      "cell_type": "code",
      "source": [
        "from random import seed\n",
        "from random import randrange\n",
        "from math import sqrt\n",
        "from math import exp\n",
        "from math import pi"
      ],
      "metadata": {
        "id": "tXRF7LbPmsMt"
      },
      "execution_count": null,
      "outputs": []
    },
    {
      "cell_type": "code",
      "source": [
        "def cross_validation_split(dataset, n_folds):\n",
        " dataset_split = list()\n",
        " dataset_copy = list(dataset)\n",
        " fold_size = int(len(dataset) / n_folds)\n",
        " for _ in range(n_folds):\n",
        "  fold = list()\n",
        "  while len(fold) < fold_size:\n",
        "    index = randrange(len(dataset_copy))\n",
        "    fold.append(dataset_copy.pop(index))\n",
        "    dataset_split.append(fold)\n",
        " return dataset_split"
      ],
      "metadata": {
        "id": "piDjiGuJuSAc"
      },
      "execution_count": null,
      "outputs": []
    },
    {
      "cell_type": "code",
      "source": [
        "def accuracy_metric(actual, predicted):\n",
        " correct = 0\n",
        " for i in range(len(actual)):\n",
        "  if actual[i] == predicted[i]:\n",
        "    correct += 1\n",
        " return correct / float(len(actual)) * 100.0"
      ],
      "metadata": {
        "id": "ZVSDZuJfufVy"
      },
      "execution_count": null,
      "outputs": []
    },
    {
      "cell_type": "code",
      "source": [
        "def evaluate_algorithm(dataset, algorithm, n_folds, *args):\n",
        " folds = cross_validation_split(dataset, n_folds)\n",
        " scores = list()\n",
        " for fold in folds:\n",
        "  train_set = list(folds)\n",
        "  train_set.remove(fold)\n",
        "  train_set = sum(train_set, [])\n",
        "  test_set = list()\n",
        " for row in fold:\n",
        "  row_copy = list(row)\n",
        "  test_set.append(row_copy)\n",
        "  row_copy[-1] = None\n",
        "  predicted = algorithm(train_set, test_set, *args)\n",
        "  actual = [row[-1] for row in fold]\n",
        "  accuracy = accuracy_metric(actual, predicted)\n",
        "  scores.append(accuracy)\n",
        " return scores"
      ],
      "metadata": {
        "id": "Drek1yE9vN9G"
      },
      "execution_count": null,
      "outputs": []
    },
    {
      "cell_type": "code",
      "source": [
        "def separate_by_class(dataset):\n",
        " separated = dict()\n",
        " for i in range(len(dataset)):\n",
        "   vector = dataset[i]\n",
        " class_value = vector[-1]\n",
        " if (class_value not in separated):\n",
        "  separated[class_value] = list()\n",
        " separated[class_value].append(vector)\n",
        " return separated"
      ],
      "metadata": {
        "id": "V7tre3S0vhu1"
      },
      "execution_count": null,
      "outputs": []
    },
    {
      "cell_type": "code",
      "source": [
        "def mean(numbers):\n",
        " return sum(numbers)/float(len(numbers))"
      ],
      "metadata": {
        "id": "IB-TWGgIvyDN"
      },
      "execution_count": null,
      "outputs": []
    },
    {
      "cell_type": "code",
      "source": [
        "def stdev(numbers):\n",
        " avg = mean(numbers)\n",
        " variance = sum([(x-avg)**2 for x in numbers]) / float(len(numbers)-1)\n",
        " return sqrt(variance)"
      ],
      "metadata": {
        "id": "QafhWxxNv3dh"
      },
      "execution_count": null,
      "outputs": []
    },
    {
      "cell_type": "code",
      "source": [
        "def summarize_dataset(dataset):\n",
        " summaries = [(mean(column), stdev(column), len(column)) for column in zip(*dataset)]\n",
        " del(summaries[-1])\n",
        " return summaries"
      ],
      "metadata": {
        "id": "fLFNoMeVv6v1"
      },
      "execution_count": null,
      "outputs": []
    },
    {
      "cell_type": "code",
      "source": [
        "def summarize_by_class(dataset):\n",
        " separated = separate_by_class(dataset)\n",
        " summaries = dict()\n",
        " for class_value, rows in separated.items():\n",
        "  summaries[class_value] = summarize_dataset(rows)\n",
        " return summaries"
      ],
      "metadata": {
        "id": "OYjXMp5bv-Vn"
      },
      "execution_count": null,
      "outputs": []
    },
    {
      "cell_type": "code",
      "source": [
        "def calculate_probability(x, mean, stdev):\n",
        " exponent = exp(-((x-mean)**2 / (2 * stdev**2 )))\n",
        " return (1 / (sqrt(2 * pi) * stdev)) * exponent\n"
      ],
      "metadata": {
        "id": "IvCpgJwBwCOU"
      },
      "execution_count": null,
      "outputs": []
    },
    {
      "cell_type": "code",
      "source": [
        "def calculate_class_probabilities(summaries, row):\n",
        " total_rows = sum([summaries[label][0][2] for label in summaries])\n",
        " probabilities = dict()\n",
        " for class_value, class_summaries in summaries.items():\n",
        "  probabilities[class_value] = summaries[class_value][0][2]/float(total_rows)\n",
        " for i in range(len(class_summaries)):\n",
        "  mean, stdev, _ = class_summaries[i]\n",
        "  probabilities[class_value] *= calculate_probability(row[i], mean, stdev)\n",
        " return probabilities"
      ],
      "metadata": {
        "id": "LmiFYZRLwHCp"
      },
      "execution_count": null,
      "outputs": []
    },
    {
      "cell_type": "code",
      "source": [
        "def predict(summaries, row):\n",
        " probabilities = calculate_class_probabilities(summaries, row)\n",
        " best_label, best_prob = None, -1\n",
        " for class_value, probability in probabilities.items():\n",
        "  if best_label is None or probability > best_prob:\n",
        "    best_prob = probability\n",
        "    best_label = class_value\n",
        " return best_label"
      ],
      "metadata": {
        "id": "Qitz17-_wOSv"
      },
      "execution_count": null,
      "outputs": []
    },
    {
      "cell_type": "code",
      "source": [
        "def naive_bayes(train, test):\n",
        " summarize = summarize_by_class(train)\n",
        " predictions = list()\n",
        " for row in test:\n",
        "  output = predict(summarize, row)\n",
        "  predictions.append(output)\n",
        " return(predictions)"
      ],
      "metadata": {
        "id": "7dCzzh2lwUZh"
      },
      "execution_count": null,
      "outputs": []
    },
    {
      "cell_type": "code",
      "source": [
        "seed(1)\n",
        "n_folds = 5\n",
        "scores = evaluate_algorithm(penguins, naive_bayes, n_folds)\n",
        "print('Scores: %s' % scores)\n",
        "print('Mean Accuracy: %.3f%%' % (sum(scores)/float(len(scores))))"
      ],
      "metadata": {
        "id": "S22IYh9LwYd6"
      },
      "execution_count": null,
      "outputs": []
    },
    {
      "cell_type": "code",
      "source": [],
      "metadata": {
        "id": "IzjCY_8GwmeX"
      },
      "execution_count": null,
      "outputs": []
    }
  ]
}